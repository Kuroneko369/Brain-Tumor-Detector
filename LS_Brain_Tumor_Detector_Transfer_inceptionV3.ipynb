{
  "nbformat": 4,
  "nbformat_minor": 0,
  "metadata": {
    "colab": {
      "provenance": []
    },
    "kernelspec": {
      "name": "python3",
      "display_name": "Python 3"
    },
    "accelerator": "GPU"
  },
  "cells": [
    {
      "cell_type": "markdown",
      "source": [],
      "metadata": {
        "id": "I1x7Ec1LBtTr"
      }
    },
    {
      "cell_type": "markdown",
      "source": [
        "# Brain Tumor Detector"
      ],
      "metadata": {
        "id": "FUT9Va1sZ8dP"
      }
    },
    {
      "cell_type": "markdown",
      "source": [
        "\n",
        " **This Notebook uses a pre-trained inceptionV3 model for the classification task**\n",
        "\n",
        " - augmentation: random flip and random contrast\n",
        "\n",
        " - no class weights"
      ],
      "metadata": {
        "id": "7i_8TEjNO9_4"
      }
    },
    {
      "cell_type": "markdown",
      "source": [
        "## Get and Load Dataset"
      ],
      "metadata": {
        "id": "fEFuDGXvaAXt"
      }
    },
    {
      "cell_type": "code",
      "source": [
        "!pip install --upgrade --no-cache-dir gdown"
      ],
      "metadata": {
        "colab": {
          "base_uri": "https://localhost:8080/"
        },
        "id": "M_gWMjaoUYbz",
        "outputId": "b64f9ad3-598c-472d-d2fc-3186afdde563"
      },
      "execution_count": 1,
      "outputs": [
        {
          "output_type": "stream",
          "name": "stdout",
          "text": [
            "Requirement already satisfied: gdown in /usr/local/lib/python3.10/dist-packages (4.7.3)\n",
            "Collecting gdown\n",
            "  Downloading gdown-5.1.0-py3-none-any.whl (17 kB)\n",
            "Requirement already satisfied: beautifulsoup4 in /usr/local/lib/python3.10/dist-packages (from gdown) (4.12.3)\n",
            "Requirement already satisfied: filelock in /usr/local/lib/python3.10/dist-packages (from gdown) (3.13.3)\n",
            "Requirement already satisfied: requests[socks] in /usr/local/lib/python3.10/dist-packages (from gdown) (2.31.0)\n",
            "Requirement already satisfied: tqdm in /usr/local/lib/python3.10/dist-packages (from gdown) (4.66.2)\n",
            "Requirement already satisfied: soupsieve>1.2 in /usr/local/lib/python3.10/dist-packages (from beautifulsoup4->gdown) (2.5)\n",
            "Requirement already satisfied: charset-normalizer<4,>=2 in /usr/local/lib/python3.10/dist-packages (from requests[socks]->gdown) (3.3.2)\n",
            "Requirement already satisfied: idna<4,>=2.5 in /usr/local/lib/python3.10/dist-packages (from requests[socks]->gdown) (3.6)\n",
            "Requirement already satisfied: urllib3<3,>=1.21.1 in /usr/local/lib/python3.10/dist-packages (from requests[socks]->gdown) (2.0.7)\n",
            "Requirement already satisfied: certifi>=2017.4.17 in /usr/local/lib/python3.10/dist-packages (from requests[socks]->gdown) (2024.2.2)\n",
            "Requirement already satisfied: PySocks!=1.5.7,>=1.5.6 in /usr/local/lib/python3.10/dist-packages (from requests[socks]->gdown) (1.7.1)\n",
            "Installing collected packages: gdown\n",
            "  Attempting uninstall: gdown\n",
            "    Found existing installation: gdown 4.7.3\n",
            "    Uninstalling gdown-4.7.3:\n",
            "      Successfully uninstalled gdown-4.7.3\n",
            "Successfully installed gdown-5.1.0\n"
          ]
        }
      ]
    },
    {
      "cell_type": "code",
      "metadata": {
        "id": "fb-eoC3hZKNK",
        "colab": {
          "base_uri": "https://localhost:8080/"
        },
        "outputId": "f3c9b48a-c83b-4d3a-aa47-160cbb52d076"
      },
      "source": [
        "!gdown --id 1bXBSfKDaItFigHa5QfcnyTXADG2wlWJj"
      ],
      "execution_count": 2,
      "outputs": [
        {
          "output_type": "stream",
          "name": "stdout",
          "text": [
            "/usr/local/lib/python3.10/dist-packages/gdown/__main__.py:132: FutureWarning: Option `--id` was deprecated in version 4.3.1 and will be removed in 5.0. You don't need to pass it anymore to use a file ID.\n",
            "  warnings.warn(\n",
            "Downloading...\n",
            "From (original): https://drive.google.com/uc?id=1bXBSfKDaItFigHa5QfcnyTXADG2wlWJj\n",
            "From (redirected): https://drive.google.com/uc?id=1bXBSfKDaItFigHa5QfcnyTXADG2wlWJj&confirm=t&uuid=3a1b5db2-8bf1-4bb5-9a11-9d3d835c5ac5\n",
            "To: /content/brain_tumor.zip\n",
            "100% 156M/156M [00:01<00:00, 152MB/s]\n"
          ]
        }
      ]
    },
    {
      "cell_type": "code",
      "metadata": {
        "id": "UoeLgtZfezSM"
      },
      "source": [
        "!unzip -q brain_tumor.zip"
      ],
      "execution_count": 3,
      "outputs": []
    },
    {
      "cell_type": "code",
      "metadata": {
        "id": "pbMGK9F5hcmG",
        "colab": {
          "base_uri": "https://localhost:8080/"
        },
        "outputId": "885a014f-90ab-4467-fee3-c08f0d9976f7"
      },
      "source": [
        "ls -l"
      ],
      "execution_count": 4,
      "outputs": [
        {
          "output_type": "stream",
          "name": "stdout",
          "text": [
            "total 152156\n",
            "-rw-r--r-- 1 root root 155791278 Apr  5 09:15 brain_tumor.zip\n",
            "drwxr-xr-x 1 root root      4096 Apr  3 13:25 \u001b[0m\u001b[01;34msample_data\u001b[0m/\n",
            "drwxr-xr-x 6 root root      4096 Apr  5 09:15 \u001b[01;34mTesting\u001b[0m/\n",
            "drwxr-xr-x 6 root root      4096 Apr  5 09:15 \u001b[01;34mTraining\u001b[0m/\n"
          ]
        }
      ]
    },
    {
      "cell_type": "code",
      "metadata": {
        "id": "05-kB0jBmLL4",
        "colab": {
          "base_uri": "https://localhost:8080/"
        },
        "outputId": "fdf40165-2229-44c8-8bae-2d77b3696bb3"
      },
      "source": [
        "!sudo apt-get install tree #just to see folder structures, run only on linux systems like colab"
      ],
      "execution_count": 5,
      "outputs": [
        {
          "output_type": "stream",
          "name": "stdout",
          "text": [
            "Reading package lists... Done\n",
            "Building dependency tree... Done\n",
            "Reading state information... Done\n",
            "The following NEW packages will be installed:\n",
            "  tree\n",
            "0 upgraded, 1 newly installed, 0 to remove and 45 not upgraded.\n",
            "Need to get 47.9 kB of archives.\n",
            "After this operation, 116 kB of additional disk space will be used.\n",
            "Get:1 http://archive.ubuntu.com/ubuntu jammy/universe amd64 tree amd64 2.0.2-1 [47.9 kB]\n",
            "Fetched 47.9 kB in 1s (67.6 kB/s)\n",
            "debconf: unable to initialize frontend: Dialog\n",
            "debconf: (No usable dialog-like program is installed, so the dialog based frontend cannot be used. at /usr/share/perl5/Debconf/FrontEnd/Dialog.pm line 78, <> line 1.)\n",
            "debconf: falling back to frontend: Readline\n",
            "debconf: unable to initialize frontend: Readline\n",
            "debconf: (This frontend requires a controlling tty.)\n",
            "debconf: falling back to frontend: Teletype\n",
            "dpkg-preconfigure: unable to re-open stdin: \n",
            "Selecting previously unselected package tree.\n",
            "(Reading database ... 121753 files and directories currently installed.)\n",
            "Preparing to unpack .../tree_2.0.2-1_amd64.deb ...\n",
            "Unpacking tree (2.0.2-1) ...\n",
            "Setting up tree (2.0.2-1) ...\n",
            "Processing triggers for man-db (2.10.2-1) ...\n"
          ]
        }
      ]
    },
    {
      "cell_type": "code",
      "metadata": {
        "id": "BVdOPwLlmAPA",
        "colab": {
          "base_uri": "https://localhost:8080/"
        },
        "outputId": "158069d8-3a88-454b-ef9e-efb069436372"
      },
      "source": [
        "!tree --dirsfirst --filelimit 4 ./Training/ #just to see folder structures, run only on linux systems like colab"
      ],
      "execution_count": 6,
      "outputs": [
        {
          "output_type": "stream",
          "name": "stdout",
          "text": [
            "\u001b[01;34m./Training/\u001b[0m\n",
            "├── \u001b[01;34mglioma\u001b[0m  [1321 entries exceeds filelimit, not opening dir]\n",
            "├── \u001b[01;34mmeningioma\u001b[0m  [1339 entries exceeds filelimit, not opening dir]\n",
            "├── \u001b[01;34mnotumor\u001b[0m  [1595 entries exceeds filelimit, not opening dir]\n",
            "└── \u001b[01;34mpituitary\u001b[0m  [1457 entries exceeds filelimit, not opening dir]\n",
            "\n",
            "4 directories, 0 files\n"
          ]
        }
      ]
    },
    {
      "cell_type": "code",
      "metadata": {
        "id": "U9ZLFjtBmIBK",
        "colab": {
          "base_uri": "https://localhost:8080/"
        },
        "outputId": "c23e57a0-6739-4b52-c628-850b0f1f0e8c"
      },
      "source": [
        "!tree --dirsfirst --filelimit 4 ./Testing/ #just to see folder structures, run only on linux systems like colab"
      ],
      "execution_count": 7,
      "outputs": [
        {
          "output_type": "stream",
          "name": "stdout",
          "text": [
            "\u001b[01;34m./Testing/\u001b[0m\n",
            "├── \u001b[01;34mglioma\u001b[0m  [300 entries exceeds filelimit, not opening dir]\n",
            "├── \u001b[01;34mmeningioma\u001b[0m  [306 entries exceeds filelimit, not opening dir]\n",
            "├── \u001b[01;34mnotumor\u001b[0m  [405 entries exceeds filelimit, not opening dir]\n",
            "└── \u001b[01;34mpituitary\u001b[0m  [300 entries exceeds filelimit, not opening dir]\n",
            "\n",
            "4 directories, 0 files\n"
          ]
        }
      ]
    },
    {
      "cell_type": "markdown",
      "source": [
        "## Load Dependencies"
      ],
      "metadata": {
        "id": "7ZzZrMe_aDd8"
      }
    },
    {
      "cell_type": "code",
      "source": [],
      "metadata": {
        "id": "TkkqOGWGjhor"
      },
      "execution_count": null,
      "outputs": []
    },
    {
      "cell_type": "code",
      "metadata": {
        "id": "v8lyqOGtnyzR",
        "colab": {
          "base_uri": "https://localhost:8080/"
        },
        "outputId": "3611f19f-bcac-4791-feb6-fb30781fff06"
      },
      "source": [
        "import tensorflow as tf\n",
        "import numpy as np\n",
        "import pandas as pd\n",
        "from sklearn.metrics import confusion_matrix,\\\n",
        "                            classification_report\n",
        "import matplotlib.pyplot as plt\n",
        "from tqdm import tqdm\n",
        "from glob import glob\n",
        "\n",
        "print('TF Version:', tf.__version__)"
      ],
      "execution_count": 8,
      "outputs": [
        {
          "output_type": "stream",
          "name": "stdout",
          "text": [
            "TF Version: 2.15.0\n"
          ]
        }
      ]
    },
    {
      "cell_type": "markdown",
      "source": [
        "## Utility functions to create dataset generators"
      ],
      "metadata": {
        "id": "X90es0LEaFVr"
      }
    },
    {
      "cell_type": "code",
      "metadata": {
        "id": "FU6QT4G5oNeS"
      },
      "source": [
        "IMG_DIMS = (128, 128)\n",
        "BATCH_SIZE = 32\n",
        "IMG_SHAPE = IMG_DIMS + (3,)\n",
        "classes = ['glioma', 'meningioma', 'notumor', 'pituitary']\n",
        "\n",
        "# call this function before running any model to get data into train and validation splits\n",
        "# data is loaded as a TF dataset in a memory efficient format\n",
        "def prepare_train_and_val_datasets():\n",
        "    train_ds = tf.keras.preprocessing.image_dataset_from_directory(\n",
        "        \"./Training\",\n",
        "        validation_split=0.2,\n",
        "        subset=\"training\",\n",
        "        class_names=['glioma', 'meningioma', 'notumor', 'pituitary'],\n",
        "        seed=42,\n",
        "        image_size=IMG_DIMS,\n",
        "        batch_size=BATCH_SIZE,\n",
        "    )\n",
        "\n",
        "    val_ds = tf.keras.preprocessing.image_dataset_from_directory(\n",
        "        \"./Training\",\n",
        "        validation_split=0.2,\n",
        "        subset=\"validation\",\n",
        "        class_names=['glioma', 'meningioma', 'notumor', 'pituitary'],\n",
        "        seed=42,\n",
        "        image_size=IMG_DIMS,\n",
        "        batch_size=BATCH_SIZE,\n",
        "    )\n",
        "\n",
        "    train_ds = train_ds.prefetch(buffer_size=25)\n",
        "    val_ds = val_ds.prefetch(buffer_size=25)\n",
        "\n",
        "    return train_ds, val_ds\n",
        "\n",
        "# call this function on any trained model to get prediction labels on the test data\n",
        "# this loads the test dataset from the test directory as a test dataset\n",
        "# iterates through the above dataset and returns the true labels as well as the predicted labels\n",
        "def eval_model_on_test(model):\n",
        "    test_ds = tf.keras.preprocessing.image_dataset_from_directory(\n",
        "        \"./Testing\",\n",
        "        class_names=['glioma', 'meningioma', 'notumor', 'pituitary'],\n",
        "        seed=42,\n",
        "        image_size=IMG_DIMS,\n",
        "        batch_size=128,\n",
        "    )\n",
        "\n",
        "    test_labels = []\n",
        "    predictions = []\n",
        "\n",
        "    for imgs, labels in tqdm(test_ds.take(100),\n",
        "                             desc='Predicting on Test Data'):\n",
        "        batch_preds = model.predict(imgs)\n",
        "        predictions.extend(batch_preds)\n",
        "        test_labels.extend(labels)\n",
        "\n",
        "    predictions = np.array(predictions)\n",
        "    test_labels = np.array(test_labels)\n",
        "\n",
        "    return test_labels, predictions\n"
      ],
      "execution_count": 9,
      "outputs": []
    },
    {
      "cell_type": "markdown",
      "source": [
        "### Example usage of the above functions\n",
        "\n",
        "```\n",
        "train_ds, val_ds = prepare_train_and_val_datasets()\n",
        "\n",
        "model = <BIG CNN MODEL>\n",
        "\n",
        "history = model.fit(\n",
        "    train_ds, epochs=10,\n",
        "    validation_data=val_ds,\n",
        ")\n",
        "\n",
        "y_true, y_pred = eval_model_on_test(model)\n"
      ],
      "metadata": {
        "id": "GSOuSsb6M8d-"
      }
    },
    {
      "cell_type": "code",
      "metadata": {
        "id": "t1fSSHE_o_4_",
        "colab": {
          "base_uri": "https://localhost:8080/"
        },
        "outputId": "d0be70a8-a99f-48e1-81f7-9090a30a9c12"
      },
      "source": [
        "train_ds, val_ds = prepare_train_and_val_datasets()\n",
        "\n",
        "\n",
        "train_ds = (train_ds.map(lambda image, label: (tf.image.random_flip_left_right(image), label))\n",
        "                    .map(lambda image, label: (tf.image.random_contrast(image, lower=0.2, upper=1.5), label))\n",
        "                        .shuffle(2000)\n",
        "                        .prefetch(buffer_size=tf.data.AUTOTUNE))"
      ],
      "execution_count": 10,
      "outputs": [
        {
          "output_type": "stream",
          "name": "stdout",
          "text": [
            "Found 5712 files belonging to 4 classes.\n",
            "Using 4570 files for training.\n",
            "Found 5712 files belonging to 4 classes.\n",
            "Using 1142 files for validation.\n"
          ]
        }
      ]
    },
    {
      "cell_type": "markdown",
      "source": [
        "## If you want to apply data augmentation operations on the train dataset\n",
        "\n",
        "Go to the `prepare_train_and_val_datasets(...)` and you can add augmentation operations directly to the train dataset as follows:\n",
        "\n",
        "```\n",
        "train_ds = (train_ds.map(lambda image, label: (tf.image.random_flip_left_right(image), label))\n",
        "                    .map(lambda image, label: (tf.image.random_contrast(image, lower=0.2, upper=1.5), label))\n",
        "                        .shuffle(2000)\n",
        "                        .prefetch(buffer_size=tf.data.AUTOTUNE))\n",
        "```\n",
        "\n",
        "\n",
        "Remember to check [`tf.image`](https://www.tensorflow.org/api_docs/python/tf/image#image_adjustments) for various image transforms available and you can play around with augmentations\n",
        "\n",
        "__Be careful here and don't add too many transforms which can distort the images beyond recognition__"
      ],
      "metadata": {
        "id": "wyqd7B_rUDyo"
      }
    },
    {
      "cell_type": "code",
      "source": [
        "from tensorflow.keras import  layers, models\n",
        "import keras"
      ],
      "metadata": {
        "id": "FVD4L0QPCGlS"
      },
      "execution_count": 11,
      "outputs": []
    },
    {
      "cell_type": "code",
      "source": [
        "model_name = 'InceptionV3'"
      ],
      "metadata": {
        "id": "CGleYUX_-UGc"
      },
      "execution_count": 12,
      "outputs": []
    },
    {
      "cell_type": "code",
      "source": [
        "#### Use pre-trained inceptionV3 model\n",
        "\n",
        "model_IN = keras.applications.InceptionV3(include_top=False,\n",
        "                                       weights=\"imagenet\",\n",
        "                                       input_shape=IMG_SHAPE,\n",
        "                                       classes=4,\n",
        "                                       classifier_activation='softmax'\n",
        "                                       )\n",
        "\n",
        "model_IN.trainable = False\n"
      ],
      "metadata": {
        "id": "XkykQWkZnS-s",
        "colab": {
          "base_uri": "https://localhost:8080/"
        },
        "outputId": "81665dec-0ae5-44a4-d3e6-761d0d6033cc"
      },
      "execution_count": 13,
      "outputs": [
        {
          "output_type": "stream",
          "name": "stdout",
          "text": [
            "Downloading data from https://storage.googleapis.com/tensorflow/keras-applications/inception_v3/inception_v3_weights_tf_dim_ordering_tf_kernels_notop.h5\n",
            "87910968/87910968 [==============================] - 0s 0us/step\n"
          ]
        }
      ]
    },
    {
      "cell_type": "code",
      "source": [
        "image_batch, label_batch = next(iter(train_ds))\n",
        "image_batch.shape"
      ],
      "metadata": {
        "colab": {
          "base_uri": "https://localhost:8080/"
        },
        "id": "PnF4AHNJjeqp",
        "outputId": "8739f2a5-fcb0-4f2c-d12f-16badaa54d5b"
      },
      "execution_count": 14,
      "outputs": [
        {
          "output_type": "execute_result",
          "data": {
            "text/plain": [
              "TensorShape([32, 128, 128, 3])"
            ]
          },
          "metadata": {},
          "execution_count": 14
        }
      ]
    },
    {
      "cell_type": "code",
      "source": [
        "image_batch, label_batch = next(iter(train_ds))\n",
        "feature_batch = model_IN(image_batch)\n",
        "print(feature_batch.shape)"
      ],
      "metadata": {
        "colab": {
          "base_uri": "https://localhost:8080/"
        },
        "id": "D5iNbW2Zji-q",
        "outputId": "24bcfe09-38bc-4c08-cfe1-34ea1d2e77c4"
      },
      "execution_count": 16,
      "outputs": [
        {
          "output_type": "stream",
          "name": "stdout",
          "text": [
            "(32, 2, 2, 2048)\n"
          ]
        }
      ]
    },
    {
      "cell_type": "code",
      "source": [
        "for layer in model_IN.layers:\n",
        "  print(layer.name, '->', layer.trainable)"
      ],
      "metadata": {
        "colab": {
          "base_uri": "https://localhost:8080/"
        },
        "id": "Mmr9oZfuj-87",
        "outputId": "bf0fee49-0b9b-49a7-87c1-50a38222b77b"
      },
      "execution_count": 18,
      "outputs": [
        {
          "output_type": "stream",
          "name": "stdout",
          "text": [
            "input_1 -> False\n",
            "conv2d -> False\n",
            "batch_normalization -> False\n",
            "activation -> False\n",
            "conv2d_1 -> False\n",
            "batch_normalization_1 -> False\n",
            "activation_1 -> False\n",
            "conv2d_2 -> False\n",
            "batch_normalization_2 -> False\n",
            "activation_2 -> False\n",
            "max_pooling2d -> False\n",
            "conv2d_3 -> False\n",
            "batch_normalization_3 -> False\n",
            "activation_3 -> False\n",
            "conv2d_4 -> False\n",
            "batch_normalization_4 -> False\n",
            "activation_4 -> False\n",
            "max_pooling2d_1 -> False\n",
            "conv2d_8 -> False\n",
            "batch_normalization_8 -> False\n",
            "activation_8 -> False\n",
            "conv2d_6 -> False\n",
            "conv2d_9 -> False\n",
            "batch_normalization_6 -> False\n",
            "batch_normalization_9 -> False\n",
            "activation_6 -> False\n",
            "activation_9 -> False\n",
            "average_pooling2d -> False\n",
            "conv2d_5 -> False\n",
            "conv2d_7 -> False\n",
            "conv2d_10 -> False\n",
            "conv2d_11 -> False\n",
            "batch_normalization_5 -> False\n",
            "batch_normalization_7 -> False\n",
            "batch_normalization_10 -> False\n",
            "batch_normalization_11 -> False\n",
            "activation_5 -> False\n",
            "activation_7 -> False\n",
            "activation_10 -> False\n",
            "activation_11 -> False\n",
            "mixed0 -> False\n",
            "conv2d_15 -> False\n",
            "batch_normalization_15 -> False\n",
            "activation_15 -> False\n",
            "conv2d_13 -> False\n",
            "conv2d_16 -> False\n",
            "batch_normalization_13 -> False\n",
            "batch_normalization_16 -> False\n",
            "activation_13 -> False\n",
            "activation_16 -> False\n",
            "average_pooling2d_1 -> False\n",
            "conv2d_12 -> False\n",
            "conv2d_14 -> False\n",
            "conv2d_17 -> False\n",
            "conv2d_18 -> False\n",
            "batch_normalization_12 -> False\n",
            "batch_normalization_14 -> False\n",
            "batch_normalization_17 -> False\n",
            "batch_normalization_18 -> False\n",
            "activation_12 -> False\n",
            "activation_14 -> False\n",
            "activation_17 -> False\n",
            "activation_18 -> False\n",
            "mixed1 -> False\n",
            "conv2d_22 -> False\n",
            "batch_normalization_22 -> False\n",
            "activation_22 -> False\n",
            "conv2d_20 -> False\n",
            "conv2d_23 -> False\n",
            "batch_normalization_20 -> False\n",
            "batch_normalization_23 -> False\n",
            "activation_20 -> False\n",
            "activation_23 -> False\n",
            "average_pooling2d_2 -> False\n",
            "conv2d_19 -> False\n",
            "conv2d_21 -> False\n",
            "conv2d_24 -> False\n",
            "conv2d_25 -> False\n",
            "batch_normalization_19 -> False\n",
            "batch_normalization_21 -> False\n",
            "batch_normalization_24 -> False\n",
            "batch_normalization_25 -> False\n",
            "activation_19 -> False\n",
            "activation_21 -> False\n",
            "activation_24 -> False\n",
            "activation_25 -> False\n",
            "mixed2 -> False\n",
            "conv2d_27 -> False\n",
            "batch_normalization_27 -> False\n",
            "activation_27 -> False\n",
            "conv2d_28 -> False\n",
            "batch_normalization_28 -> False\n",
            "activation_28 -> False\n",
            "conv2d_26 -> False\n",
            "conv2d_29 -> False\n",
            "batch_normalization_26 -> False\n",
            "batch_normalization_29 -> False\n",
            "activation_26 -> False\n",
            "activation_29 -> False\n",
            "max_pooling2d_2 -> False\n",
            "mixed3 -> False\n",
            "conv2d_34 -> False\n",
            "batch_normalization_34 -> False\n",
            "activation_34 -> False\n",
            "conv2d_35 -> False\n",
            "batch_normalization_35 -> False\n",
            "activation_35 -> False\n",
            "conv2d_31 -> False\n",
            "conv2d_36 -> False\n",
            "batch_normalization_31 -> False\n",
            "batch_normalization_36 -> False\n",
            "activation_31 -> False\n",
            "activation_36 -> False\n",
            "conv2d_32 -> False\n",
            "conv2d_37 -> False\n",
            "batch_normalization_32 -> False\n",
            "batch_normalization_37 -> False\n",
            "activation_32 -> False\n",
            "activation_37 -> False\n",
            "average_pooling2d_3 -> False\n",
            "conv2d_30 -> False\n",
            "conv2d_33 -> False\n",
            "conv2d_38 -> False\n",
            "conv2d_39 -> False\n",
            "batch_normalization_30 -> False\n",
            "batch_normalization_33 -> False\n",
            "batch_normalization_38 -> False\n",
            "batch_normalization_39 -> False\n",
            "activation_30 -> False\n",
            "activation_33 -> False\n",
            "activation_38 -> False\n",
            "activation_39 -> False\n",
            "mixed4 -> False\n",
            "conv2d_44 -> False\n",
            "batch_normalization_44 -> False\n",
            "activation_44 -> False\n",
            "conv2d_45 -> False\n",
            "batch_normalization_45 -> False\n",
            "activation_45 -> False\n",
            "conv2d_41 -> False\n",
            "conv2d_46 -> False\n",
            "batch_normalization_41 -> False\n",
            "batch_normalization_46 -> False\n",
            "activation_41 -> False\n",
            "activation_46 -> False\n",
            "conv2d_42 -> False\n",
            "conv2d_47 -> False\n",
            "batch_normalization_42 -> False\n",
            "batch_normalization_47 -> False\n",
            "activation_42 -> False\n",
            "activation_47 -> False\n",
            "average_pooling2d_4 -> False\n",
            "conv2d_40 -> False\n",
            "conv2d_43 -> False\n",
            "conv2d_48 -> False\n",
            "conv2d_49 -> False\n",
            "batch_normalization_40 -> False\n",
            "batch_normalization_43 -> False\n",
            "batch_normalization_48 -> False\n",
            "batch_normalization_49 -> False\n",
            "activation_40 -> False\n",
            "activation_43 -> False\n",
            "activation_48 -> False\n",
            "activation_49 -> False\n",
            "mixed5 -> False\n",
            "conv2d_54 -> False\n",
            "batch_normalization_54 -> False\n",
            "activation_54 -> False\n",
            "conv2d_55 -> False\n",
            "batch_normalization_55 -> False\n",
            "activation_55 -> False\n",
            "conv2d_51 -> False\n",
            "conv2d_56 -> False\n",
            "batch_normalization_51 -> False\n",
            "batch_normalization_56 -> False\n",
            "activation_51 -> False\n",
            "activation_56 -> False\n",
            "conv2d_52 -> False\n",
            "conv2d_57 -> False\n",
            "batch_normalization_52 -> False\n",
            "batch_normalization_57 -> False\n",
            "activation_52 -> False\n",
            "activation_57 -> False\n",
            "average_pooling2d_5 -> False\n",
            "conv2d_50 -> False\n",
            "conv2d_53 -> False\n",
            "conv2d_58 -> False\n",
            "conv2d_59 -> False\n",
            "batch_normalization_50 -> False\n",
            "batch_normalization_53 -> False\n",
            "batch_normalization_58 -> False\n",
            "batch_normalization_59 -> False\n",
            "activation_50 -> False\n",
            "activation_53 -> False\n",
            "activation_58 -> False\n",
            "activation_59 -> False\n",
            "mixed6 -> False\n",
            "conv2d_64 -> False\n",
            "batch_normalization_64 -> False\n",
            "activation_64 -> False\n",
            "conv2d_65 -> False\n",
            "batch_normalization_65 -> False\n",
            "activation_65 -> False\n",
            "conv2d_61 -> False\n",
            "conv2d_66 -> False\n",
            "batch_normalization_61 -> False\n",
            "batch_normalization_66 -> False\n",
            "activation_61 -> False\n",
            "activation_66 -> False\n",
            "conv2d_62 -> False\n",
            "conv2d_67 -> False\n",
            "batch_normalization_62 -> False\n",
            "batch_normalization_67 -> False\n",
            "activation_62 -> False\n",
            "activation_67 -> False\n",
            "average_pooling2d_6 -> False\n",
            "conv2d_60 -> False\n",
            "conv2d_63 -> False\n",
            "conv2d_68 -> False\n",
            "conv2d_69 -> False\n",
            "batch_normalization_60 -> False\n",
            "batch_normalization_63 -> False\n",
            "batch_normalization_68 -> False\n",
            "batch_normalization_69 -> False\n",
            "activation_60 -> False\n",
            "activation_63 -> False\n",
            "activation_68 -> False\n",
            "activation_69 -> False\n",
            "mixed7 -> False\n",
            "conv2d_72 -> False\n",
            "batch_normalization_72 -> False\n",
            "activation_72 -> False\n",
            "conv2d_73 -> False\n",
            "batch_normalization_73 -> False\n",
            "activation_73 -> False\n",
            "conv2d_70 -> False\n",
            "conv2d_74 -> False\n",
            "batch_normalization_70 -> False\n",
            "batch_normalization_74 -> False\n",
            "activation_70 -> False\n",
            "activation_74 -> False\n",
            "conv2d_71 -> False\n",
            "conv2d_75 -> False\n",
            "batch_normalization_71 -> False\n",
            "batch_normalization_75 -> False\n",
            "activation_71 -> False\n",
            "activation_75 -> False\n",
            "max_pooling2d_3 -> False\n",
            "mixed8 -> False\n",
            "conv2d_80 -> False\n",
            "batch_normalization_80 -> False\n",
            "activation_80 -> False\n",
            "conv2d_77 -> False\n",
            "conv2d_81 -> False\n",
            "batch_normalization_77 -> False\n",
            "batch_normalization_81 -> False\n",
            "activation_77 -> False\n",
            "activation_81 -> False\n",
            "conv2d_78 -> False\n",
            "conv2d_79 -> False\n",
            "conv2d_82 -> False\n",
            "conv2d_83 -> False\n",
            "average_pooling2d_7 -> False\n",
            "conv2d_76 -> False\n",
            "batch_normalization_78 -> False\n",
            "batch_normalization_79 -> False\n",
            "batch_normalization_82 -> False\n",
            "batch_normalization_83 -> False\n",
            "conv2d_84 -> False\n",
            "batch_normalization_76 -> False\n",
            "activation_78 -> False\n",
            "activation_79 -> False\n",
            "activation_82 -> False\n",
            "activation_83 -> False\n",
            "batch_normalization_84 -> False\n",
            "activation_76 -> False\n",
            "mixed9_0 -> False\n",
            "concatenate -> False\n",
            "activation_84 -> False\n",
            "mixed9 -> False\n",
            "conv2d_89 -> False\n",
            "batch_normalization_89 -> False\n",
            "activation_89 -> False\n",
            "conv2d_86 -> False\n",
            "conv2d_90 -> False\n",
            "batch_normalization_86 -> False\n",
            "batch_normalization_90 -> False\n",
            "activation_86 -> False\n",
            "activation_90 -> False\n",
            "conv2d_87 -> False\n",
            "conv2d_88 -> False\n",
            "conv2d_91 -> False\n",
            "conv2d_92 -> False\n",
            "average_pooling2d_8 -> False\n",
            "conv2d_85 -> False\n",
            "batch_normalization_87 -> False\n",
            "batch_normalization_88 -> False\n",
            "batch_normalization_91 -> False\n",
            "batch_normalization_92 -> False\n",
            "conv2d_93 -> False\n",
            "batch_normalization_85 -> False\n",
            "activation_87 -> False\n",
            "activation_88 -> False\n",
            "activation_91 -> False\n",
            "activation_92 -> False\n",
            "batch_normalization_93 -> False\n",
            "activation_85 -> False\n",
            "mixed9_1 -> False\n",
            "concatenate_1 -> False\n",
            "activation_93 -> False\n",
            "mixed10 -> False\n"
          ]
        }
      ]
    },
    {
      "cell_type": "code",
      "source": [
        "global_average_layer = tf.keras.layers.GlobalAveragePooling2D()\n",
        "feature_batch_average = global_average_layer(feature_batch)\n",
        "print(feature_batch_average.shape)"
      ],
      "metadata": {
        "colab": {
          "base_uri": "https://localhost:8080/"
        },
        "id": "qy8kEftxkShY",
        "outputId": "60eabb14-77a0-403a-86f6-95dfa05e74b2"
      },
      "execution_count": 19,
      "outputs": [
        {
          "output_type": "stream",
          "name": "stdout",
          "text": [
            "(32, 2048)\n"
          ]
        }
      ]
    },
    {
      "cell_type": "code",
      "source": [
        "dense_layer = tf.keras.layers.Dense(512, activation='relu')\n",
        "prediction_layer = tf.keras.layers.Dense(1, activation='sigmoid')\n",
        "dense_output = dense_layer(feature_batch_average)\n",
        "prediction_batch = prediction_layer(dense_output)\n",
        "print(prediction_batch.shape)"
      ],
      "metadata": {
        "colab": {
          "base_uri": "https://localhost:8080/"
        },
        "id": "HuIs1inEkTYs",
        "outputId": "3a746ff7-90ab-4f47-ec6e-03ecc2331975"
      },
      "execution_count": 20,
      "outputs": [
        {
          "output_type": "stream",
          "name": "stdout",
          "text": [
            "(32, 1)\n"
          ]
        }
      ]
    },
    {
      "cell_type": "code",
      "source": [
        "inputs = tf.keras.Input(shape=IMG_SHAPE)"
      ],
      "metadata": {
        "id": "FW54_wQclDAj"
      },
      "execution_count": 21,
      "outputs": []
    },
    {
      "cell_type": "code",
      "source": [
        "res_model_fm = model_IN(inputs, training=False)\n",
        "\n",
        "feature_vecs = tf.keras.layers.GlobalAveragePooling2D()(res_model_fm)\n",
        "\n",
        "dense1 = tf.keras.layers.Dense(256)(feature_vecs)\n",
        "\n",
        "drop1 = tf.keras.layers.Dropout(0.2)(dense1)\n",
        "\n",
        "outputs = tf.keras.layers.Dense(4, activation='softmax')(drop1)\n",
        "\n",
        "model = tf.keras.Model(inputs, outputs)"
      ],
      "metadata": {
        "id": "tfhhODJ0lIr4"
      },
      "execution_count": 22,
      "outputs": []
    },
    {
      "cell_type": "code",
      "source": [
        "base_learning_rate = 0.0001\n",
        "model.compile(optimizer=tf.keras.optimizers.Adam(learning_rate=base_learning_rate),\n",
        "              loss=tf.keras.losses.SparseCategoricalCrossentropy(),\n",
        "              metrics=['sparse_categorical_accuracy'])"
      ],
      "metadata": {
        "id": "WhfBsSyalXH3"
      },
      "execution_count": 27,
      "outputs": []
    },
    {
      "cell_type": "code",
      "source": [
        "for layer in model.layers:\n",
        "    print(layer.name, '->', layer.trainable)"
      ],
      "metadata": {
        "colab": {
          "base_uri": "https://localhost:8080/"
        },
        "id": "XV8Xg0NFlYJN",
        "outputId": "f9720a90-5752-4189-c386-e273460f33b0"
      },
      "execution_count": 24,
      "outputs": [
        {
          "output_type": "stream",
          "name": "stdout",
          "text": [
            "input_2 -> True\n",
            "inception_v3 -> False\n",
            "global_average_pooling2d_1 -> True\n",
            "dense_2 -> True\n",
            "dropout -> True\n",
            "dense_3 -> True\n"
          ]
        }
      ]
    },
    {
      "cell_type": "code",
      "source": [
        "initial_epochs = 30\n",
        "\n",
        "\n",
        "history = model.fit(train_ds,\n",
        "                    epochs=initial_epochs,\n",
        "                    validation_data=val_ds)"
      ],
      "metadata": {
        "colab": {
          "base_uri": "https://localhost:8080/"
        },
        "id": "T2KJI5iPleMF",
        "outputId": "b12cc778-1cf8-440d-fc35-092d9ab271e9"
      },
      "execution_count": 37,
      "outputs": [
        {
          "output_type": "stream",
          "name": "stdout",
          "text": [
            "Epoch 1/30\n",
            "143/143 [==============================] - 11s 36ms/step - loss: 3.1523 - sparse_categorical_accuracy: 0.7547 - val_loss: 2.2545 - val_sparse_categorical_accuracy: 0.8231\n",
            "Epoch 2/30\n",
            "143/143 [==============================] - 11s 36ms/step - loss: 2.8594 - sparse_categorical_accuracy: 0.7398 - val_loss: 2.9554 - val_sparse_categorical_accuracy: 0.8004\n",
            "Epoch 3/30\n",
            "143/143 [==============================] - 11s 36ms/step - loss: 4.3787 - sparse_categorical_accuracy: 0.6996 - val_loss: 2.7616 - val_sparse_categorical_accuracy: 0.8170\n",
            "Epoch 4/30\n",
            "143/143 [==============================] - 10s 37ms/step - loss: 2.8533 - sparse_categorical_accuracy: 0.7595 - val_loss: 1.9933 - val_sparse_categorical_accuracy: 0.8354\n",
            "Epoch 5/30\n",
            "143/143 [==============================] - 10s 41ms/step - loss: 2.4582 - sparse_categorical_accuracy: 0.7593 - val_loss: 2.4727 - val_sparse_categorical_accuracy: 0.8205\n",
            "Epoch 6/30\n",
            "143/143 [==============================] - 10s 36ms/step - loss: 2.8425 - sparse_categorical_accuracy: 0.7514 - val_loss: 2.5731 - val_sparse_categorical_accuracy: 0.7872\n",
            "Epoch 7/30\n",
            "143/143 [==============================] - 11s 36ms/step - loss: 2.7850 - sparse_categorical_accuracy: 0.7538 - val_loss: 1.9753 - val_sparse_categorical_accuracy: 0.8424\n",
            "Epoch 8/30\n",
            "143/143 [==============================] - 11s 37ms/step - loss: 2.4004 - sparse_categorical_accuracy: 0.7617 - val_loss: 1.8664 - val_sparse_categorical_accuracy: 0.8292\n",
            "Epoch 9/30\n",
            "143/143 [==============================] - 10s 37ms/step - loss: 2.8071 - sparse_categorical_accuracy: 0.7514 - val_loss: 3.4190 - val_sparse_categorical_accuracy: 0.7776\n",
            "Epoch 10/30\n",
            "143/143 [==============================] - 10s 39ms/step - loss: 2.3870 - sparse_categorical_accuracy: 0.7571 - val_loss: 3.4214 - val_sparse_categorical_accuracy: 0.7040\n",
            "Epoch 11/30\n",
            "143/143 [==============================] - 12s 38ms/step - loss: 2.2188 - sparse_categorical_accuracy: 0.7716 - val_loss: 1.6621 - val_sparse_categorical_accuracy: 0.8380\n",
            "Epoch 12/30\n",
            "143/143 [==============================] - 11s 36ms/step - loss: 2.1585 - sparse_categorical_accuracy: 0.7621 - val_loss: 2.1132 - val_sparse_categorical_accuracy: 0.7916\n",
            "Epoch 13/30\n",
            "143/143 [==============================] - 11s 36ms/step - loss: 2.0768 - sparse_categorical_accuracy: 0.7748 - val_loss: 1.4618 - val_sparse_categorical_accuracy: 0.8398\n",
            "Epoch 14/30\n",
            "143/143 [==============================] - 11s 36ms/step - loss: 2.3534 - sparse_categorical_accuracy: 0.7626 - val_loss: 2.7093 - val_sparse_categorical_accuracy: 0.7566\n",
            "Epoch 15/30\n",
            "143/143 [==============================] - 10s 38ms/step - loss: 2.3166 - sparse_categorical_accuracy: 0.7687 - val_loss: 1.9262 - val_sparse_categorical_accuracy: 0.8292\n",
            "Epoch 16/30\n",
            "143/143 [==============================] - 11s 43ms/step - loss: 2.2658 - sparse_categorical_accuracy: 0.7604 - val_loss: 1.9317 - val_sparse_categorical_accuracy: 0.8179\n",
            "Epoch 17/30\n",
            "143/143 [==============================] - 11s 45ms/step - loss: 2.1492 - sparse_categorical_accuracy: 0.7676 - val_loss: 1.3899 - val_sparse_categorical_accuracy: 0.8424\n",
            "Epoch 18/30\n",
            "143/143 [==============================] - 10s 36ms/step - loss: 1.9256 - sparse_categorical_accuracy: 0.7829 - val_loss: 1.7355 - val_sparse_categorical_accuracy: 0.8205\n",
            "Epoch 19/30\n",
            "143/143 [==============================] - 11s 37ms/step - loss: 2.1458 - sparse_categorical_accuracy: 0.7650 - val_loss: 1.6103 - val_sparse_categorical_accuracy: 0.8494\n",
            "Epoch 20/30\n",
            "143/143 [==============================] - 11s 36ms/step - loss: 2.0176 - sparse_categorical_accuracy: 0.7742 - val_loss: 1.6519 - val_sparse_categorical_accuracy: 0.8380\n",
            "Epoch 21/30\n",
            "143/143 [==============================] - 11s 36ms/step - loss: 1.8202 - sparse_categorical_accuracy: 0.7829 - val_loss: 1.6163 - val_sparse_categorical_accuracy: 0.8363\n",
            "Epoch 22/30\n",
            "143/143 [==============================] - 10s 37ms/step - loss: 1.7397 - sparse_categorical_accuracy: 0.7864 - val_loss: 2.0539 - val_sparse_categorical_accuracy: 0.7977\n",
            "Epoch 23/30\n",
            "143/143 [==============================] - 10s 38ms/step - loss: 1.8589 - sparse_categorical_accuracy: 0.7700 - val_loss: 1.6776 - val_sparse_categorical_accuracy: 0.8231\n",
            "Epoch 24/30\n",
            "143/143 [==============================] - 10s 39ms/step - loss: 1.7241 - sparse_categorical_accuracy: 0.7919 - val_loss: 1.5773 - val_sparse_categorical_accuracy: 0.8284\n",
            "Epoch 25/30\n",
            "143/143 [==============================] - 10s 36ms/step - loss: 1.6301 - sparse_categorical_accuracy: 0.7858 - val_loss: 1.6493 - val_sparse_categorical_accuracy: 0.8231\n",
            "Epoch 26/30\n",
            "143/143 [==============================] - 11s 36ms/step - loss: 1.4312 - sparse_categorical_accuracy: 0.7972 - val_loss: 1.3305 - val_sparse_categorical_accuracy: 0.8406\n",
            "Epoch 27/30\n",
            "143/143 [==============================] - 11s 37ms/step - loss: 1.5888 - sparse_categorical_accuracy: 0.7840 - val_loss: 1.4894 - val_sparse_categorical_accuracy: 0.8345\n",
            "Epoch 28/30\n",
            "143/143 [==============================] - 10s 39ms/step - loss: 1.8018 - sparse_categorical_accuracy: 0.7635 - val_loss: 1.6678 - val_sparse_categorical_accuracy: 0.8249\n",
            "Epoch 29/30\n",
            "143/143 [==============================] - 10s 39ms/step - loss: 1.4708 - sparse_categorical_accuracy: 0.7845 - val_loss: 1.1649 - val_sparse_categorical_accuracy: 0.8494\n",
            "Epoch 30/30\n",
            "143/143 [==============================] - 11s 42ms/step - loss: 1.5407 - sparse_categorical_accuracy: 0.7829 - val_loss: 1.4203 - val_sparse_categorical_accuracy: 0.8398\n"
          ]
        }
      ]
    },
    {
      "cell_type": "code",
      "source": [
        "fig, ax = plt.subplots(1,2, figsize=(7,3))\n",
        "\n",
        "ax[0].plot(history.history['sparse_categorical_accuracy'], label='accuracy')\n",
        "ax[0].plot(history.history['val_sparse_categorical_accuracy'], label = 'val_accuracy')\n",
        "ax[0].set_xlabel('Epoch')\n",
        "ax[0].set_ylabel('Accuracy')\n",
        "ax[0].legend(loc='lower right');\n",
        "\n",
        "ax[1].plot(history.history['loss'], label='loss')\n",
        "ax[1].plot(history.history['val_loss'], label = 'val_loss')\n",
        "ax[1].set_xlabel('Epoch')\n",
        "ax[1].set_ylabel('Loss')\n",
        "ax[1].legend(loc='upper right');\n",
        "\n",
        "fig.tight_layout()\n",
        "#plt.savefig(\"./plots/inception_CNN.png\", dpi=300, format='png')\n",
        "plt.show()"
      ],
      "metadata": {
        "colab": {
          "base_uri": "https://localhost:8080/",
          "height": 307
        },
        "id": "W7haQx79lxfe",
        "outputId": "08c2370f-cdf3-4553-edd8-ac3e975cb9ae"
      },
      "execution_count": 38,
      "outputs": [
        {
          "output_type": "display_data",
          "data": {
            "text/plain": [
              "<Figure size 700x300 with 2 Axes>"
            ],
            "image/png": "[encoded data removed]"
          },
          "metadata": {}
        }
      ]
    },
    {
      "cell_type": "code",
      "source": [
        "y_true, y_pred = eval_model_on_test(model)"
      ],
      "metadata": {
        "colab": {
          "base_uri": "https://localhost:8080/"
        },
        "id": "4UVZ36jD_YNN",
        "outputId": "3a2ccdd2-75cb-4bd5-c2d6-463452618f14"
      },
      "execution_count": 39,
      "outputs": [
        {
          "output_type": "stream",
          "name": "stdout",
          "text": [
            "Found 1311 files belonging to 4 classes.\n"
          ]
        },
        {
          "output_type": "stream",
          "name": "stderr",
          "text": [
            "\rPredicting on Test Data:   0%|          | 0/11 [00:00<?, ?it/s]"
          ]
        },
        {
          "output_type": "stream",
          "name": "stdout",
          "text": [
            "4/4 [==============================] - 0s 43ms/step\n"
          ]
        },
        {
          "output_type": "stream",
          "name": "stderr",
          "text": [
            "\rPredicting on Test Data:   9%|▉         | 1/11 [00:01<00:13,  1.31s/it]"
          ]
        },
        {
          "output_type": "stream",
          "name": "stdout",
          "text": [
            "4/4 [==============================] - 0s 27ms/step\n"
          ]
        },
        {
          "output_type": "stream",
          "name": "stderr",
          "text": [
            "\rPredicting on Test Data:  18%|█▊        | 2/11 [00:01<00:05,  1.50it/s]"
          ]
        },
        {
          "output_type": "stream",
          "name": "stdout",
          "text": [
            "4/4 [==============================] - 0s 28ms/step\n"
          ]
        },
        {
          "output_type": "stream",
          "name": "stderr",
          "text": [
            "\rPredicting on Test Data:  27%|██▋       | 3/11 [00:01<00:03,  2.12it/s]"
          ]
        },
        {
          "output_type": "stream",
          "name": "stdout",
          "text": [
            "4/4 [==============================] - 0s 27ms/step\n"
          ]
        },
        {
          "output_type": "stream",
          "name": "stderr",
          "text": [
            "\rPredicting on Test Data:  36%|███▋      | 4/11 [00:02<00:02,  2.62it/s]"
          ]
        },
        {
          "output_type": "stream",
          "name": "stdout",
          "text": [
            "4/4 [==============================] - 0s 24ms/step\n"
          ]
        },
        {
          "output_type": "stream",
          "name": "stderr",
          "text": [
            "\rPredicting on Test Data:  45%|████▌     | 5/11 [00:02<00:01,  3.15it/s]"
          ]
        },
        {
          "output_type": "stream",
          "name": "stdout",
          "text": [
            "4/4 [==============================] - 0s 25ms/step\n"
          ]
        },
        {
          "output_type": "stream",
          "name": "stderr",
          "text": [
            "\rPredicting on Test Data:  55%|█████▍    | 6/11 [00:02<00:01,  3.44it/s]"
          ]
        },
        {
          "output_type": "stream",
          "name": "stdout",
          "text": [
            "4/4 [==============================] - 0s 22ms/step\n"
          ]
        },
        {
          "output_type": "stream",
          "name": "stderr",
          "text": [
            "\rPredicting on Test Data:  64%|██████▎   | 7/11 [00:02<00:01,  3.67it/s]"
          ]
        },
        {
          "output_type": "stream",
          "name": "stdout",
          "text": [
            "4/4 [==============================] - 0s 23ms/step\n"
          ]
        },
        {
          "output_type": "stream",
          "name": "stderr",
          "text": [
            "\rPredicting on Test Data:  73%|███████▎  | 8/11 [00:02<00:00,  4.09it/s]"
          ]
        },
        {
          "output_type": "stream",
          "name": "stdout",
          "text": [
            "4/4 [==============================] - 0s 24ms/step\n"
          ]
        },
        {
          "output_type": "stream",
          "name": "stderr",
          "text": [
            "\rPredicting on Test Data:  82%|████████▏ | 9/11 [00:03<00:00,  4.42it/s]"
          ]
        },
        {
          "output_type": "stream",
          "name": "stdout",
          "text": [
            "4/4 [==============================] - 0s 23ms/step\n"
          ]
        },
        {
          "output_type": "stream",
          "name": "stderr",
          "text": [
            "\rPredicting on Test Data:  91%|█████████ | 10/11 [00:03<00:00,  4.66it/s]"
          ]
        },
        {
          "output_type": "stream",
          "name": "stdout",
          "text": [
            "1/1 [==============================] - 0s 32ms/step\n"
          ]
        },
        {
          "output_type": "stream",
          "name": "stderr",
          "text": [
            "Predicting on Test Data: 100%|██████████| 11/11 [00:03<00:00,  3.25it/s]\n"
          ]
        }
      ]
    },
    {
      "cell_type": "code",
      "source": [
        "y_pred_class = np.argmax(y_pred,1)\n",
        "y_pred_class.shape"
      ],
      "metadata": {
        "colab": {
          "base_uri": "https://localhost:8080/"
        },
        "id": "5SX86NWU_rEz",
        "outputId": "9bc02432-9033-4454-be16-ab3427779909"
      },
      "execution_count": 40,
      "outputs": [
        {
          "output_type": "execute_result",
          "data": {
            "text/plain": [
              "(1311,)"
            ]
          },
          "metadata": {},
          "execution_count": 40
        }
      ]
    },
    {
      "cell_type": "code",
      "source": [
        "print(classification_report(y_true, y_pred_class, target_names=classes))"
      ],
      "metadata": {
        "colab": {
          "base_uri": "https://localhost:8080/"
        },
        "id": "8Ekjhri3Aflg",
        "outputId": "99846241-83ff-4de6-99bf-59a7f823b1d6"
      },
      "execution_count": 41,
      "outputs": [
        {
          "output_type": "stream",
          "name": "stdout",
          "text": [
            "              precision    recall  f1-score   support\n",
            "\n",
            "      glioma       0.93      0.48      0.63       300\n",
            "  meningioma       0.62      0.84      0.71       306\n",
            "     notumor       0.88      0.97      0.92       405\n",
            "   pituitary       0.92      0.92      0.92       300\n",
            "\n",
            "    accuracy                           0.81      1311\n",
            "   macro avg       0.84      0.80      0.80      1311\n",
            "weighted avg       0.84      0.81      0.81      1311\n",
            "\n"
          ]
        }
      ]
    },
    {
      "cell_type": "code",
      "source": [
        "import seaborn as sns\n",
        "\n",
        "plt.subplots(figsize=(4,3.5))\n",
        "ax = sns.heatmap(confusion_matrix(y_true, y_pred_class),\n",
        "            annot=True,\n",
        "            fmt=\".0f\",\n",
        "            xticklabels=classes,\n",
        "            yticklabels=classes\n",
        "            );\n",
        "#ax.set_xticklabels(class_names, rotation=90, size=\"10\")\n",
        "ax.set_xlabel('True labels', size='12')\n",
        "ax.set_ylabel('Predicted labels', size='12')\n",
        "#plt.savefig(\"./plots/basic_CNN_CM.png\", dpi=300, format='png', bbox_inches='tight')\n",
        "plt.show()"
      ],
      "metadata": {
        "id": "4jijX4kmoikT",
        "colab": {
          "base_uri": "https://localhost:8080/",
          "height": 426
        },
        "outputId": "77ddd219-a104-48a3-d718-844c574f2b8b"
      },
      "execution_count": 42,
      "outputs": [
        {
          "output_type": "display_data",
          "data": {
            "text/plain": [
              "<Figure size 400x350 with 2 Axes>"
            ],
            "image/png": "[encoded data removed]"
          },
          "metadata": {}
        }
      ]
    },
    {
      "cell_type": "code",
      "source": [
        "from tensorflow.keras.callbacks import ModelCheckpoint\n",
        "\n",
        "# Define the checkpoint callback\n",
        "checkpoint = ModelCheckpoint(\"best_model.h5\", monitor='val_loss', save_best_only=True, mode='min')"
      ],
      "metadata": {
        "id": "wXRetgbxqI4w"
      },
      "execution_count": 32,
      "outputs": []
    },
    {
      "cell_type": "code",
      "source": [
        "%%time\n",
        "history = new_model.fit(train_ds,\n",
        "                        epochs = 20,\n",
        "                        validation_data = val_ds,\n",
        "                        callbacks=[checkpoint]\n",
        "                        )"
      ],
      "metadata": {
        "id": "S9I33GFbo2B5",
        "colab": {
          "base_uri": "https://localhost:8080/"
        },
        "outputId": "bf531f5d-3179-4d71-c2d3-f4ece989535e"
      },
      "execution_count": 33,
      "outputs": [
        {
          "output_type": "stream",
          "name": "stdout",
          "text": [
            "Epoch 1/20\n",
            "143/143 [==============================] - ETA: 0s - loss: 6.2200 - sparse_categorical_accuracy: 0.5792"
          ]
        },
        {
          "output_type": "stream",
          "name": "stderr",
          "text": [
            "/usr/local/lib/python3.10/dist-packages/keras/src/engine/training.py:3103: UserWarning: You are saving your model as an HDF5 file via `model.save()`. This file format is considered legacy. We recommend using instead the native Keras format, e.g. `model.save('my_model.keras')`.\n",
            "  saving_api.save_model(\n"
          ]
        },
        {
          "output_type": "stream",
          "name": "stdout",
          "text": [
            "\b\b\b\b\b\b\b\b\b\b\b\b\b\b\b\b\b\b\b\b\b\b\b\b\b\b\b\b\b\b\b\b\b\b\b\b\b\b\b\b\b\b\b\b\b\b\b\b\b\b\b\b\b\b\b\b\b\b\b\b\b\b\b\b\b\b\b\b\b\b\b\b\b\b\b\b\b\b\b\b\b\b\b\b\b\b\b\b\b\b\b\b\b\b\b\b\b\b\b\b\b\b\b\r143/143 [==============================] - 23s 79ms/step - loss: 6.2200 - sparse_categorical_accuracy: 0.5792 - val_loss: 3.1025 - val_sparse_categorical_accuracy: 0.7005\n",
            "Epoch 2/20\n",
            "143/143 [==============================] - 7s 48ms/step - loss: 2.6905 - sparse_categorical_accuracy: 0.7074 - val_loss: 1.9276 - val_sparse_categorical_accuracy: 0.7601\n",
            "Epoch 3/20\n",
            "143/143 [==============================] - 7s 51ms/step - loss: 2.1291 - sparse_categorical_accuracy: 0.7475 - val_loss: 2.3569 - val_sparse_categorical_accuracy: 0.7434\n",
            "Epoch 4/20\n",
            "143/143 [==============================] - 7s 45ms/step - loss: 1.7822 - sparse_categorical_accuracy: 0.7722 - val_loss: 3.5658 - val_sparse_categorical_accuracy: 0.7049\n",
            "Epoch 5/20\n",
            "143/143 [==============================] - 8s 56ms/step - loss: 1.3367 - sparse_categorical_accuracy: 0.8066 - val_loss: 1.8364 - val_sparse_categorical_accuracy: 0.7951\n",
            "Epoch 6/20\n",
            "143/143 [==============================] - 7s 50ms/step - loss: 1.2715 - sparse_categorical_accuracy: 0.8070 - val_loss: 2.1338 - val_sparse_categorical_accuracy: 0.7758\n",
            "Epoch 7/20\n",
            "143/143 [==============================] - 7s 44ms/step - loss: 1.1719 - sparse_categorical_accuracy: 0.8204 - val_loss: 4.4162 - val_sparse_categorical_accuracy: 0.6217\n",
            "Epoch 8/20\n",
            "143/143 [==============================] - 8s 57ms/step - loss: 1.4860 - sparse_categorical_accuracy: 0.8098 - val_loss: 1.5499 - val_sparse_categorical_accuracy: 0.8240\n",
            "Epoch 9/20\n",
            "143/143 [==============================] - 8s 53ms/step - loss: 0.8542 - sparse_categorical_accuracy: 0.8556 - val_loss: 1.6322 - val_sparse_categorical_accuracy: 0.8152\n",
            "Epoch 10/20\n",
            "143/143 [==============================] - 7s 50ms/step - loss: 1.3794 - sparse_categorical_accuracy: 0.8254 - val_loss: 2.1772 - val_sparse_categorical_accuracy: 0.8074\n",
            "Epoch 11/20\n",
            "143/143 [==============================] - 11s 71ms/step - loss: 1.2018 - sparse_categorical_accuracy: 0.8370 - val_loss: 2.2176 - val_sparse_categorical_accuracy: 0.7881\n",
            "Epoch 12/20\n",
            "143/143 [==============================] - 8s 53ms/step - loss: 1.0594 - sparse_categorical_accuracy: 0.8451 - val_loss: 2.0059 - val_sparse_categorical_accuracy: 0.7933\n",
            "Epoch 13/20\n",
            "143/143 [==============================] - 7s 44ms/step - loss: 1.2308 - sparse_categorical_accuracy: 0.8453 - val_loss: 2.5047 - val_sparse_categorical_accuracy: 0.7758\n",
            "Epoch 14/20\n",
            "143/143 [==============================] - 8s 57ms/step - loss: 0.8673 - sparse_categorical_accuracy: 0.8733 - val_loss: 1.5397 - val_sparse_categorical_accuracy: 0.8327\n",
            "Epoch 15/20\n",
            "143/143 [==============================] - 8s 53ms/step - loss: 0.6581 - sparse_categorical_accuracy: 0.8875 - val_loss: 1.5834 - val_sparse_categorical_accuracy: 0.8126\n",
            "Epoch 16/20\n",
            "143/143 [==============================] - 7s 50ms/step - loss: 0.6691 - sparse_categorical_accuracy: 0.8856 - val_loss: 1.6476 - val_sparse_categorical_accuracy: 0.8301\n",
            "Epoch 17/20\n",
            "143/143 [==============================] - 7s 49ms/step - loss: 0.8450 - sparse_categorical_accuracy: 0.8779 - val_loss: 1.3544 - val_sparse_categorical_accuracy: 0.8503\n",
            "Epoch 18/20\n",
            "143/143 [==============================] - 7s 49ms/step - loss: 0.8572 - sparse_categorical_accuracy: 0.8702 - val_loss: 2.2574 - val_sparse_categorical_accuracy: 0.7811\n",
            "Epoch 19/20\n",
            "143/143 [==============================] - 8s 51ms/step - loss: 0.7993 - sparse_categorical_accuracy: 0.8792 - val_loss: 1.5980 - val_sparse_categorical_accuracy: 0.8284\n",
            "Epoch 20/20\n",
            "143/143 [==============================] - 8s 53ms/step - loss: 0.5697 - sparse_categorical_accuracy: 0.8987 - val_loss: 1.6833 - val_sparse_categorical_accuracy: 0.8415\n",
            "CPU times: user 3min 57s, sys: 13.1 s, total: 4min 10s\n",
            "Wall time: 3min 21s\n"
          ]
        }
      ]
    },
    {
      "cell_type": "code",
      "source": [
        "\n",
        "plt.plot(history.history['sparse_categorical_accuracy'], label='accuracy')\n",
        "plt.plot(history.history['val_sparse_categorical_accuracy'], label = 'val_accuracy')\n",
        "plt.xlabel('Epoch')\n",
        "plt.ylabel('Accuracy')\n",
        "plt.legend(loc='lower right');"
      ],
      "metadata": {
        "id": "UvWVJoWmq8C9",
        "colab": {
          "base_uri": "https://localhost:8080/",
          "height": 449
        },
        "outputId": "94bf6885-762f-4bd8-9403-ee0fef0b7454"
      },
      "execution_count": 36,
      "outputs": [
        {
          "output_type": "display_data",
          "data": {
            "text/plain": [
              "<Figure size 640x480 with 1 Axes>"
            ],
            "image/png": "[encoded data removed]"
          },
          "metadata": {}
        }
      ]
    },
    {
      "cell_type": "code",
      "source": [
        "####\n",
        "y_true, y_pred = eval_model_on_test(new_model)\n"
      ],
      "metadata": {
        "colab": {
          "base_uri": "https://localhost:8080/"
        },
        "id": "iiVHG8ayICh6",
        "outputId": "108228f6-8885-4174-ca08-c0344cb93b94"
      },
      "execution_count": 37,
      "outputs": [
        {
          "output_type": "stream",
          "name": "stdout",
          "text": [
            "Found 1311 files belonging to 4 classes.\n"
          ]
        },
        {
          "output_type": "stream",
          "name": "stderr",
          "text": [
            "\rPredicting on Test Data:   0%|          | 0/11 [00:00<?, ?it/s]"
          ]
        },
        {
          "output_type": "stream",
          "name": "stdout",
          "text": [
            "4/4 [==============================] - 1s 40ms/step\n"
          ]
        },
        {
          "output_type": "stream",
          "name": "stderr",
          "text": [
            "\rPredicting on Test Data:   9%|▉         | 1/11 [00:02<00:25,  2.56s/it]"
          ]
        },
        {
          "output_type": "stream",
          "name": "stdout",
          "text": [
            "4/4 [==============================] - 0s 37ms/step\n"
          ]
        },
        {
          "output_type": "stream",
          "name": "stderr",
          "text": [
            "\rPredicting on Test Data:  18%|█▊        | 2/11 [00:02<00:11,  1.29s/it]"
          ]
        },
        {
          "output_type": "stream",
          "name": "stdout",
          "text": [
            "4/4 [==============================] - 0s 35ms/step\n"
          ]
        },
        {
          "output_type": "stream",
          "name": "stderr",
          "text": [
            "\rPredicting on Test Data:  27%|██▋       | 3/11 [00:03<00:07,  1.13it/s]"
          ]
        },
        {
          "output_type": "stream",
          "name": "stdout",
          "text": [
            "4/4 [==============================] - 0s 38ms/step\n"
          ]
        },
        {
          "output_type": "stream",
          "name": "stderr",
          "text": [
            "\rPredicting on Test Data:  36%|███▋      | 4/11 [00:03<00:04,  1.43it/s]"
          ]
        },
        {
          "output_type": "stream",
          "name": "stdout",
          "text": [
            "4/4 [==============================] - 0s 36ms/step\n"
          ]
        },
        {
          "output_type": "stream",
          "name": "stderr",
          "text": [
            "\rPredicting on Test Data:  45%|████▌     | 5/11 [00:04<00:03,  1.83it/s]"
          ]
        },
        {
          "output_type": "stream",
          "name": "stdout",
          "text": [
            "4/4 [==============================] - 0s 34ms/step\n"
          ]
        },
        {
          "output_type": "stream",
          "name": "stderr",
          "text": [
            "\rPredicting on Test Data:  55%|█████▍    | 6/11 [00:04<00:02,  2.25it/s]"
          ]
        },
        {
          "output_type": "stream",
          "name": "stdout",
          "text": [
            "4/4 [==============================] - 0s 25ms/step\n"
          ]
        },
        {
          "output_type": "stream",
          "name": "stderr",
          "text": [
            "\rPredicting on Test Data:  64%|██████▎   | 7/11 [00:04<00:01,  2.65it/s]"
          ]
        },
        {
          "output_type": "stream",
          "name": "stdout",
          "text": [
            "4/4 [==============================] - 0s 24ms/step\n"
          ]
        },
        {
          "output_type": "stream",
          "name": "stderr",
          "text": [
            "\rPredicting on Test Data:  73%|███████▎  | 8/11 [00:04<00:00,  3.12it/s]"
          ]
        },
        {
          "output_type": "stream",
          "name": "stdout",
          "text": [
            "4/4 [==============================] - 0s 25ms/step\n"
          ]
        },
        {
          "output_type": "stream",
          "name": "stderr",
          "text": [
            "\rPredicting on Test Data:  82%|████████▏ | 9/11 [00:04<00:00,  3.39it/s]"
          ]
        },
        {
          "output_type": "stream",
          "name": "stdout",
          "text": [
            "4/4 [==============================] - 0s 29ms/step\n"
          ]
        },
        {
          "output_type": "stream",
          "name": "stderr",
          "text": [
            "\rPredicting on Test Data:  91%|█████████ | 10/11 [00:05<00:00,  3.64it/s]"
          ]
        },
        {
          "output_type": "stream",
          "name": "stdout",
          "text": [
            "1/1 [==============================] - 4s 4s/step\n"
          ]
        },
        {
          "output_type": "stream",
          "name": "stderr",
          "text": [
            "Predicting on Test Data: 100%|██████████| 11/11 [00:09<00:00,  1.14it/s]\n"
          ]
        }
      ]
    },
    {
      "cell_type": "code",
      "source": [
        "y_true"
      ],
      "metadata": {
        "colab": {
          "base_uri": "https://localhost:8080/"
        },
        "id": "Qov7xgLgI-7O",
        "outputId": "45d3d83b-c29f-4548-a29b-0c54d0b0948a"
      },
      "execution_count": null,
      "outputs": [
        {
          "output_type": "execute_result",
          "data": {
            "text/plain": [
              "array([2, 1, 1, ..., 1, 1, 3], dtype=int32)"
            ]
          },
          "metadata": {},
          "execution_count": 33
        }
      ]
    },
    {
      "cell_type": "code",
      "source": [
        "y_pred"
      ],
      "metadata": {
        "colab": {
          "base_uri": "https://localhost:8080/"
        },
        "id": "5JQ0P48sJaa9",
        "outputId": "c183b055-a0a3-4a42-9e38-4c771aff42c6"
      },
      "execution_count": null,
      "outputs": [
        {
          "output_type": "execute_result",
          "data": {
            "text/plain": [
              "array([[1.9264238e-02, 1.9027489e-04, 9.8011851e-01, 4.2695508e-04],\n",
              "       [1.3821565e-01, 8.6164361e-01, 1.7563190e-05, 1.2311427e-04],\n",
              "       [1.5857164e-04, 9.8525882e-01, 7.7874074e-03, 6.7951642e-03],\n",
              "       ...,\n",
              "       [4.4814902e-03, 9.9350375e-01, 4.5197253e-04, 1.5628889e-03],\n",
              "       [2.6585598e-04, 9.9904162e-01, 6.3295226e-04, 5.9586640e-05],\n",
              "       [3.3093311e-03, 1.0492829e-02, 4.3756803e-03, 9.8182213e-01]],\n",
              "      dtype=float32)"
            ]
          },
          "metadata": {},
          "execution_count": 34
        }
      ]
    },
    {
      "cell_type": "code",
      "source": [
        "prediction_labels = np.argmax(y_pred, axis=1)\n",
        "prediction_labels"
      ],
      "metadata": {
        "colab": {
          "base_uri": "https://localhost:8080/"
        },
        "id": "zKXWoxnEJigR",
        "outputId": "bc3289f1-7c52-4ba0-8c87-17e3646b4da3"
      },
      "execution_count": 38,
      "outputs": [
        {
          "output_type": "execute_result",
          "data": {
            "text/plain": [
              "array([2, 1, 1, ..., 1, 1, 3])"
            ]
          },
          "metadata": {},
          "execution_count": 38
        }
      ]
    },
    {
      "cell_type": "code",
      "source": [
        "### classification report\n",
        "\n",
        "print(classification_report(y_true=y_true, y_pred=prediction_labels,\n",
        "                            target_names=classes))"
      ],
      "metadata": {
        "colab": {
          "base_uri": "https://localhost:8080/"
        },
        "id": "cBDIFtjSIZ1E",
        "outputId": "a0fa3a90-fbab-4258-d1f2-71d343a4dfca"
      },
      "execution_count": 39,
      "outputs": [
        {
          "output_type": "stream",
          "name": "stdout",
          "text": [
            "              precision    recall  f1-score   support\n",
            "\n",
            "      glioma       0.90      0.53      0.67       300\n",
            "  meningioma       0.61      0.89      0.72       306\n",
            "     notumor       0.95      0.95      0.95       405\n",
            "   pituitary       0.94      0.89      0.92       300\n",
            "\n",
            "    accuracy                           0.83      1311\n",
            "   macro avg       0.85      0.82      0.81      1311\n",
            "weighted avg       0.86      0.83      0.82      1311\n",
            "\n"
          ]
        }
      ]
    },
    {
      "cell_type": "code",
      "source": [
        "### confusion matrix"
      ],
      "metadata": {
        "id": "S_qIykyAO526"
      },
      "execution_count": null,
      "outputs": []
    }
  ]
}